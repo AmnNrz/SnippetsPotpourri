{
 "cells": [
  {
   "cell_type": "code",
   "execution_count": 1,
   "id": "58f43531",
   "metadata": {},
   "outputs": [
    {
     "ename": "",
     "evalue": "",
     "output_type": "error",
     "traceback": [
      "\u001b[1;31mThe Kernel crashed while executing code in the the current cell or a previous cell. Please review the code in the cell(s) to identify a possible cause of the failure. Click <a href='https://aka.ms/vscodeJupyterKernelCrash'>here</a> for more info. View Jupyter <a href='command:jupyter.viewOutput'>log</a> for further details."
     ]
    }
   ],
   "source": [
    "import numpy as np\n",
    "import pandas as pd"
   ]
  },
  {
   "cell_type": "code",
   "execution_count": null,
   "id": "1ac3450c",
   "metadata": {},
   "outputs": [],
   "source": [
    "# Load Sentinel 2 data\n",
    "\n",
    "#######   On Mac  ########\n",
    "\n",
    "\n",
    "\n",
    "path_to_data = \"/home/amnnrz/GoogleDrive - msaminnorouzi/PhD/Projects/DSFAS/Data/Sentinel2_data/dry_2/\"\n",
    "path_to_data = (\"/Users/aminnorouzi/Library/CloudStorage/\",\n",
    "                \"GoogleDrive-msaminnorouzi@gmail.com/My Drive/\",\n",
    "                \"PhD/Projects/DSFAS/Data/Sentinel2_data/dry_irgted/\")\n",
    "\n",
    "firstimg_2020 = pd.read_csv(path_to_data + \"firstImg_2020.csv\")\n",
    "secondimg_2020 = pd.read_csv(path_to_data + \"secondImg_2020.csv\")\n",
    "thirdimg_2020 = pd.read_csv(path_to_data + \"thirdImg_2020.csv\")\n",
    "firstimg_2021 = pd.read_csv(path_to_data + \"firstImg_2021.csv\")\n",
    "secondimg_2021 = pd.read_csv(path_to_data + \"secondImg_2021.csv\")\n",
    "thirdimg_2021 = pd.read_csv(path_to_data + \"thirdImg_2021.csv\")\n",
    "firstimg_2022 = pd.read_csv(path_to_data + \"firstImg_2022.csv\")\n",
    "secondimg_2022 = pd.read_csv(path_to_data + \"secondImg_2022.csv\")\n",
    "thirdimg_2022 = pd.read_csv(path_to_data + \"thirdImg_2022.csv\")\n"
   ]
  },
  {
   "cell_type": "code",
   "execution_count": null,
   "id": "f7c0bc3f",
   "metadata": {
    "lines_to_next_cell": 2
   },
   "outputs": [],
   "source": [
    "firstimg_2020.DepthSampl.value_counts()"
   ]
  },
  {
   "cell_type": "code",
   "execution_count": null,
   "id": "7a7789f8",
   "metadata": {
    "lines_to_next_cell": 2
   },
   "outputs": [],
   "source": [
    "firstimg_2020.rename(\n",
    "    columns={'NDVI': 'NDVI_first', 'tvi': 'tvi_first', 'savi': 'savi_first',\n",
    "             'MSI': 'MSI_first', 'GNDVI': 'GNDVI_first', 'GRVI': 'GRVI_first',\n",
    "             'LSWI': 'LSWI_first', 'MSAVI2': 'MSAVI2_first', 'WDVI': 'WDVI_first',\n",
    "             'BI': 'BI_first', 'BI2': 'BI2_first', 'RI': 'RI_first', 'CI':'CI_first',\n",
    "             'v':'v_first', \n",
    "             'B1': 'B1_first', 'B2': 'B2_first', 'B3': 'B3_first', 'B4': 'B4_first',\n",
    "             'B8': 'B8_first', 'B11': 'B11_first', 'B12': 'B12_first'}, inplace=True)\n",
    "firstimg_2020.columns\n",
    "\n",
    "firstimg_2021.rename(\n",
    "    columns={'NDVI': 'NDVI_first', 'tvi': 'tvi_first', 'savi': 'savi_first',\n",
    "             'MSI': 'MSI_first', 'GNDVI': 'GNDVI_first', 'GRVI': 'GRVI_first',\n",
    "             'LSWI': 'LSWI_first', 'MSAVI2': 'MSAVI2_first', 'WDVI': 'WDVI_first',\n",
    "             'BI': 'BI_first', 'BI2': 'BI2_first', 'RI': 'RI_first', 'CI': 'CI_first',\n",
    "             'v': 'v_first',\n",
    "             'B1': 'B1_first', 'B2': 'B2_first', 'B3': 'B3_first', 'B4': 'B4_first',\n",
    "             'B8': 'B8_first', 'B11': 'B11_first', 'B12': 'B12_first'}, inplace=True)\n",
    "\n",
    "firstimg_2022.rename(\n",
    "    columns={'NDVI': 'NDVI_first', 'tvi': 'tvi_first', 'savi': 'savi_first',\n",
    "             'MSI': 'MSI_first', 'GNDVI': 'GNDVI_first', 'GRVI': 'GRVI_first',\n",
    "             'LSWI': 'LSWI_first', 'MSAVI2': 'MSAVI2_first', 'WDVI': 'WDVI_first',\n",
    "             'BI': 'BI_first', 'BI2': 'BI2_first', 'RI': 'RI_first', 'CI': 'CI_first',\n",
    "             'v': 'v_first',\n",
    "             'B1': 'B1_first', 'B2': 'B2_first', 'B3': 'B3_first', 'B4': 'B4_first',\n",
    "             'B8': 'B8_first', 'B11': 'B11_first', 'B12': 'B12_first'}, inplace=True)\n",
    "\n",
    "secondimg_2020.rename(\n",
    "    columns={'NDVI': 'NDVI_second', 'tvi': 'tvi_second', 'savi': 'savi_second',\n",
    "             'MSI': 'MSI_second', 'GNDVI': 'GNDVI_second', 'GRVI': 'GRVI_second',\n",
    "             'LSWI': 'LSWI_second', 'MSAVI2': 'MSAVI2_second', 'WDVI': 'WDVI_second',\n",
    "             'BI': 'BI_second', 'BI2': 'BI2_second', 'RI': 'RI_second', 'CI': 'CI_second',\n",
    "             'v': 'v_second',\n",
    "             'B1': 'B1_second', 'B2': 'B2_second', 'B3': 'B3_second', 'B4': 'B4_second',\n",
    "             'B8': 'B8_second', 'B11': 'B11_second', 'B12': 'B12_second'}, inplace=True)\n",
    "secondimg_2020.columns\n",
    "\n",
    "secondimg_2021.rename(\n",
    "    columns={'NDVI': 'NDVI_second', 'tvi': 'tvi_second', 'savi': 'savi_second',\n",
    "             'MSI': 'MSI_second', 'GNDVI': 'GNDVI_second', 'GRVI': 'GRVI_second',\n",
    "             'LSWI': 'LSWI_second', 'MSAVI2': 'MSAVI2_second', 'WDVI': 'WDVI_second',\n",
    "             'BI': 'BI_second', 'BI2': 'BI2_second', 'RI': 'RI_second', 'CI': 'CI_second',\n",
    "             'v': 'v_second',\n",
    "             'B1': 'B1_second', 'B2': 'B2_second', 'B3': 'B3_second', 'B4': 'B4_second',\n",
    "             'B8': 'B8_second', 'B11': 'B11_second', 'B12': 'B12_second'}, inplace=True)\n",
    "\n",
    "secondimg_2022.rename(\n",
    "    columns={'NDVI': 'NDVI_second', 'tvi': 'tvi_second', 'savi': 'savi_second',\n",
    "             'MSI': 'MSI_second', 'GNDVI': 'GNDVI_second', 'GRVI': 'GRVI_second',\n",
    "             'LSWI': 'LSWI_second', 'MSAVI2': 'MSAVI2_second', 'WDVI': 'WDVI_second',\n",
    "             'BI': 'BI_second', 'BI2': 'BI2_second', 'RI': 'RI_second', 'CI': 'CI_second',\n",
    "             'v': 'v_second',\n",
    "             'B1': 'B1_second', 'B2': 'B2_second', 'B3': 'B3_second', 'B4': 'B4_second',\n",
    "             'B8': 'B8_second', 'B11': 'B11_second', 'B12': 'B12_second'}, inplace=True)\n",
    "\n",
    "secondimg_2022.columns\n",
    "\n",
    "thirdimg_2020.rename(\n",
    "    columns={'NDVI': 'NDVI_third', 'tvi': 'tvi_third', 'savi': 'savi_third',\n",
    "             'MSI': 'MSI_third', 'GNDVI': 'GNDVI_third', 'GRVI': 'GRVI_third',\n",
    "             'LSWI': 'LSWI_third', 'MSAVI2': 'MSAVI2_third', 'WDVI': 'WDVI_third',\n",
    "             'BI': 'BI_third', 'BI2': 'BI2_third', 'RI': 'RI_third', 'CI': 'CI_third',\n",
    "             'v': 'v_third',\n",
    "             'B1': 'B1_third', 'B2': 'B2_third', 'B3': 'B3_third', 'B4': 'B4_third',\n",
    "             'B8': 'B8_third', 'B11': 'B11_third', 'B12': 'B12_third'}, inplace=True)\n",
    "thirdimg_2020.columns\n",
    "\n",
    "thirdimg_2021.rename(\n",
    "    columns={'NDVI': 'NDVI_third', 'tvi': 'tvi_third', 'savi': 'savi_third',\n",
    "             'MSI': 'MSI_third', 'GNDVI': 'GNDVI_third', 'GRVI': 'GRVI_third',\n",
    "             'LSWI': 'LSWI_third', 'MSAVI2': 'MSAVI2_third', 'WDVI': 'WDVI_third',\n",
    "             'BI': 'BI_third', 'BI2': 'BI2_third', 'RI': 'RI_third', 'CI': 'CI_third',\n",
    "             'v': 'v_third',\n",
    "             'B1': 'B1_third', 'B2': 'B2_third', 'B3': 'B3_third', 'B4': 'B4_third',\n",
    "             'B8': 'B8_third', 'B11': 'B11_third', 'B12': 'B12_third'}, inplace=True)\n",
    "\n",
    "thirdimg_2022.rename(\n",
    "    columns={'NDVI': 'NDVI_third', 'tvi': 'tvi_third', 'savi': 'savi_third',\n",
    "             'MSI': 'MSI_third', 'GNDVI': 'GNDVI_third', 'GRVI': 'GRVI_third',\n",
    "             'LSWI': 'LSWI_third', 'MSAVI2': 'MSAVI2_third', 'WDVI': 'WDVI_third',\n",
    "             'BI': 'BI_third', 'BI2': 'BI2_third', 'RI': 'RI_third', 'CI': 'CI_third',\n",
    "             'v': 'v_third',\n",
    "             'B1': 'B1_third', 'B2': 'B2_third', 'B3': 'B3_third', 'B4': 'B4_third',\n",
    "             'B8': 'B8_third', 'B11': 'B11_third', 'B12': 'B12_third'}, inplace=True)\n",
    "\n",
    "thirdimg_2022.columns"
   ]
  },
  {
   "cell_type": "code",
   "execution_count": null,
   "id": "de71e1c9",
   "metadata": {
    "lines_to_next_cell": 2
   },
   "outputs": [],
   "source": [
    "firstimg_2020 = firstimg_2020.loc[firstimg_2020['YearSample'] == 2020].copy()\n",
    "secondimg_2020 = secondimg_2020.loc[secondimg_2020['YearSample'] == 2020].copy()\n",
    "thirdimg_2020 = thirdimg_2020.loc[thirdimg_2020['YearSample'] == 2020].copy()\n",
    "firstimg_2020.dropna(subset=\"B1_first\", inplace=True)\n",
    "secondimg_2020.dropna(subset=\"B1_second\", inplace=True)\n",
    "thirdimg_2020.dropna(subset=\"B1_third\", inplace=True)\n",
    "\n",
    "firstimg_2021 = firstimg_2021.loc[firstimg_2021['YearSample'] == 2021].copy()\n",
    "secondimg_2021 = secondimg_2021.loc[secondimg_2021['YearSample'] == 2021].copy()\n",
    "thirdimg_2021 = thirdimg_2021.loc[thirdimg_2021['YearSample'] == 2021].copy()\n",
    "firstimg_2021.dropna(subset=\"B1_first\", inplace=True)\n",
    "secondimg_2021.dropna(subset=\"B1_second\", inplace=True)\n",
    "thirdimg_2021.dropna(subset=\"B1_third\", inplace=True)\n",
    "\n",
    "firstimg_2022 = firstimg_2022.loc[firstimg_2022['YearSample'] == 2022].copy()\n",
    "secondimg_2022 = secondimg_2022.loc[secondimg_2022['YearSample'] == 2022].copy()\n",
    "thirdimg_2022 = thirdimg_2022.loc[thirdimg_2022['YearSample'] == 2022].copy()\n",
    "firstimg_2022.dropna(subset=\"B1_first\", inplace=True)\n",
    "secondimg_2022.dropna(subset=\"B1_second\", inplace=True)\n",
    "thirdimg_2022.dropna(subset=\"B1_third\", inplace=True)"
   ]
  },
  {
   "cell_type": "code",
   "execution_count": null,
   "id": "6da6b1d9",
   "metadata": {},
   "outputs": [],
   "source": [
    "df_first = pd.concat([firstimg_2020, firstimg_2021, firstimg_2022])\n",
    "df_second = pd.concat([secondimg_2020, secondimg_2021, secondimg_2022])\n",
    "df_third = pd.concat([thirdimg_2020, thirdimg_2021, thirdimg_2022])\n",
    "\n",
    "df_first.reset_index(inplace=True)\n",
    "df_second.reset_index(inplace=True)\n",
    "df_third.reset_index(inplace=True)"
   ]
  },
  {
   "cell_type": "code",
   "execution_count": null,
   "id": "c823bf51",
   "metadata": {},
   "outputs": [],
   "source": [
    "df_second.iloc[:, 11:]"
   ]
  },
  {
   "cell_type": "code",
   "execution_count": null,
   "id": "f00a2b2a",
   "metadata": {},
   "outputs": [],
   "source": [
    "df_first.shape, df_second.shape, df_third.shape"
   ]
  },
  {
   "cell_type": "code",
   "execution_count": null,
   "id": "ca3c010f",
   "metadata": {},
   "outputs": [],
   "source": [
    "print(df_first.shape, df_second.shape, df_third.shape)\n",
    "n_row = min(df_first.shape[0], df_second.shape[0], df_third.shape[0])\n",
    "df = pd.concat([df_first, df_second.iloc[:, 11:], df_third.iloc[:, 11:]], axis=1)\n",
    "df = df.iloc[:n_row, :]\n",
    "df"
   ]
  },
  {
   "cell_type": "code",
   "execution_count": null,
   "id": "7788e5de",
   "metadata": {},
   "outputs": [],
   "source": [
    "# Save final df\n",
    "df.to_csv(path_to_data + \"Carbon&satellite_data_dry_joined_v1.csv\")"
   ]
  }
 ],
 "metadata": {
  "jupytext": {
   "formats": "ipynb,py:light"
  },
  "kernelspec": {
   "display_name": "Python 3",
   "language": "python",
   "name": "python3"
  },
  "language_info": {
   "codemirror_mode": {
    "name": "ipython",
    "version": 3
   },
   "file_extension": ".py",
   "mimetype": "text/x-python",
   "name": "python",
   "nbconvert_exporter": "python",
   "pygments_lexer": "ipython3",
   "version": "3.9.18"
  }
 },
 "nbformat": 4,
 "nbformat_minor": 5
}
